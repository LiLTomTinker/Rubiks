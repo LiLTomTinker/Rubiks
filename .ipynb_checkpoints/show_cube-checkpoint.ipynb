{
 "cells": [
  {
   "cell_type": "code",
   "execution_count": 3,
   "metadata": {},
   "outputs": [],
   "source": [
    "import numpy as np\n",
    "from matplotlib import pyplot as plt"
   ]
  },
  {
   "cell_type": "code",
   "execution_count": 142,
   "metadata": {},
   "outputs": [
    {
     "data": {
      "text/plain": [
       "<matplotlib.image.AxesImage at 0x7fc37a4ce810>"
      ]
     },
     "execution_count": 142,
     "metadata": {},
     "output_type": "execute_result"
    },
    {
     "data": {
      "image/png": "[encoded data removed]",
      "text/plain": [
       "<Figure size 432x288 with 1 Axes>"
      ]
     },
     "metadata": {},
     "output_type": "display_data"
    }
   ],
   "source": [
    "\n",
    "cube = np.ones((9,12,3))\n",
    "mask = np.array([[0.,0,0,1,1,1,0,0,0,0,0,0],\n",
    "                 [0.,0,0,1,1,1,0,0,0,0,0,0],\n",
    "                 [0.,0,0,1,1,1,0,0,0,0,0,0],\n",
    "                 [1.,1,1,1,1,1,1,1,1,1,1,1],\n",
    "                 [1.,1,1,1,1,1,1,1,1,1,1,1],\n",
    "                 [1.,1,1,1,1,1,1,1,1,1,1,1],\n",
    "                 [0.,0,0,1,1,1,0,0,0,0,0,0],\n",
    "                 [0.,0,0,1,1,1,0,0,0,0,0,0],\n",
    "                 [0.,0,0,1,1,1,0,0,0,0,0,0]])\n",
    "mask = np.repeat(mask[:,:,np.newaxis],3,axis=2)\n",
    "\n",
    "white = (1,1,1)\n",
    "yellow = (1,1,51/255)\n",
    "green = (0,150/255,20/255)\n",
    "blue = (0,102/255,204/255)\n",
    "red = (1,0,30/255)\n",
    "orange = (1,118/255,0)\n",
    "          \n",
    "cube[:3,3:6,:] = blue\n",
    "cube[6:9,3:6,:] = green\n",
    "cube[3:7,:3,:] = orange\n",
    "cube[3:6,3:6,:] = white\n",
    "cube[3:6,6:9,:] = red\n",
    "cube[3:6,9:12,:] = yellow\n",
    "          \n",
    "plt.xticks([])\n",
    "plt.yticks([])\n",
    "\n",
    "plt.imshow(cube*mask)\n"
   ]
  },
  {
   "cell_type": "code",
   "execution_count": null,
   "metadata": {},
   "outputs": [],
   "source": [
    "\n",
    "\n"
   ]
  },
  {
   "cell_type": "code",
   "execution_count": 15,
   "metadata": {},
   "outputs": [
    {
     "ename": "SyntaxError",
     "evalue": "cannot assign to comparison (<ipython-input-15-5b1894022d8f>, line 1)",
     "output_type": "error",
     "traceback": [
      "\u001b[0;36m  File \u001b[0;32m\"<ipython-input-15-5b1894022d8f>\"\u001b[0;36m, line \u001b[0;32m1\u001b[0m\n\u001b[0;31m    WHITE == RED=GREEN=BLUE=255\u001b[0m\n\u001b[0m    ^\u001b[0m\n\u001b[0;31mSyntaxError\u001b[0m\u001b[0;31m:\u001b[0m cannot assign to comparison\n"
     ]
    }
   ],
   "source": [
    "WHITE == RED=GREEN=BLUE=255\n",
    "YELLOW == RED=GREEN=255, BLUE=0\n",
    "\n"
   ]
  },
  {
   "cell_type": "code",
   "execution_count": 29,
   "metadata": {},
   "outputs": [
    {
     "data": {
      "text/plain": [
       "<matplotlib.image.AxesImage at 0x117708610>"
      ]
     },
     "execution_count": 29,
     "metadata": {},
     "output_type": "execute_result"
    },
    {
     "data": {
      "image/png": "[encoded data removed]",
      "text/plain": [
       "<Figure size 432x288 with 1 Axes>"
      ]
     },
     "metadata": {
      "needs_background": "light"
     },
     "output_type": "display_data"
    }
   ],
   "source": [
    "yellow = np.array([[]])\n",
    "yellow.size\n",
    "plt.imshow(yellow)"
   ]
  },
  {
   "cell_type": "code",
   "execution_count": null,
   "metadata": {},
   "outputs": [],
   "source": []
  },
  {
   "cell_type": "code",
   "execution_count": null,
   "metadata": {},
   "outputs": [],
   "source": []
  }
 ],
 "metadata": {
  "kernelspec": {
   "display_name": "Python 3",
   "language": "python",
   "name": "python3"
  },
  "language_info": {
   "codemirror_mode": {
    "name": "ipython",
    "version": 3
   },
   "file_extension": ".py",
   "mimetype": "text/x-python",
   "name": "python",
   "nbconvert_exporter": "python",
   "pygments_lexer": "ipython3",
   "version": "3.7.6"
  }
 },
 "nbformat": 4,
 "nbformat_minor": 4
}
