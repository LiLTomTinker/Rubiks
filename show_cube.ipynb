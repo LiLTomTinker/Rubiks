{
 "cells": [
  {
   "cell_type": "code",
   "execution_count": 6,
   "metadata": {},
   "outputs": [],
   "source": [
    "import numpy as np\n",
    "from matplotlib import pyplot as plt"
   ]
  },
  {
   "cell_type": "code",
   "execution_count": 35,
   "metadata": {},
   "outputs": [
    {
     "data": {
      "text/plain": [
       "<matplotlib.image.AxesImage at 0x115e9f1f0>"
      ]
     },
     "execution_count": 35,
     "metadata": {},
     "output_type": "execute_result"
    },
    {
     "data": {
      "image/png": "[encoded data removed]",
      "text/plain": [
       "<Figure size 432x288 with 1 Axes>"
      ]
     },
     "metadata": {
      "needs_background": "light"
     },
     "output_type": "display_data"
    }
   ],
   "source": [
    "\n",
    "cube = np.ones((9,12,3))\n",
    "mask = np.array([[0.,0,0,1,1,1,0,0,0,0,0,0],\n",
    "                 [0.,0,0,1,1,1,0,0,0,0,0,0],\n",
    "                 [0.,0,0,1,1,1,0,0,0,0,0,0],\n",
    "                 [1.,1,1,1,1,1,1,1,1,1,1,1],\n",
    "                 [1.,1,1,1,1,1,1,1,1,1,1,1],\n",
    "                 [1.,1,1,1,1,1,1,1,1,1,1,1],\n",
    "                 [0.,0,0,1,1,1,0,0,0,0,0,0],\n",
    "                 [0.,0,0,1,1,1,0,0,0,0,0,0],\n",
    "                 [0.,0,0,1,1,1,0,0,0,0,0,0]])\n",
    "mask = np.repeat(mask[:,:,np.newaxis],3,axis=2)\n",
    "\n",
    "white = (1,1,1)\n",
    "yellow = (1,1,51/255)\n",
    "green = (0,150/255,20/255)\n",
    "blue = (0,102/255,204/255)\n",
    "red = (1,0,30/255)\n",
    "orange = (1,118/255,0)\n",
    "          \n",
    "cube[:3,3:6,:] = white\n",
    "cube[6:9,3:6,:] = yellow\n",
    "cube[3:6,:3,:] = orange\n",
    "cube[3:6,3:6,:] = green\n",
    "cube[3:6,6:9,:] = red\n",
    "cube[3:6,9:12,:] = blue\n",
    "          \n",
    "net = cube*mask\n",
    "plt.xticks(np.arange(0,13))\n",
    "plt.yticks(np.arange(0,9))\n",
    "\n",
    "plt.imshow(net)\n"
   ]
  },
  {
   "cell_type": "code",
   "execution_count": 9,
   "metadata": {},
   "outputs": [],
   "source": [
    "from cube import *"
   ]
  },
  {
   "cell_type": "code",
   "execution_count": 10,
   "metadata": {},
   "outputs": [],
   "source": [
    "cube = Cube()\n"
   ]
  },
  {
   "cell_type": "code",
   "execution_count": 11,
   "metadata": {},
   "outputs": [
    {
     "name": "stdout",
     "output_type": "stream",
     "text": [
      "TOP: (w) {'edges': [1, 2, 3, 4], 'corners': [1, 2, 3, 4], 'center': 1} \n",
      " BOTTOM: (y) {'edges': [9, 10, 11, 12], 'corners': [5, 6, 7, 8], 'center': 6} \n",
      " FRONT: (g) {'edges': [1, 5, 6, 9], 'corners': [1, 2, 5, 6], 'center': 2} \n",
      " BACK: (b) {'edges': [3, 7, 8, 11], 'corners': [3, 4, 7, 8], 'center': 4} \n",
      " LEFT: (o) {'edges': [4, 5, 8, 12], 'corners': [1, 4, 5, 8], 'center': 5} \n",
      " RIGHT: (r) {'edges': [2, 6, 7, 10], 'corners': [2, 3, 6, 7], 'center': 3}\n"
     ]
    }
   ],
   "source": [
    "cube.view()"
   ]
  },
  {
   "cell_type": "code",
   "execution_count": 13,
   "metadata": {},
   "outputs": [
    {
     "data": {
      "text/plain": [
       "array([0., 0., 0.])"
      ]
     },
     "execution_count": 13,
     "metadata": {},
     "output_type": "execute_result"
    }
   ],
   "source": [
    "net[1,2,:]"
   ]
  },
  {
   "cell_type": "code",
   "execution_count": 21,
   "metadata": {},
   "outputs": [],
   "source": [
    "a,b = (1,2)\n"
   ]
  },
  {
   "cell_type": "code",
   "execution_count": 22,
   "metadata": {},
   "outputs": [
    {
     "data": {
      "text/plain": [
       "array([0., 0., 0.])"
      ]
     },
     "execution_count": 22,
     "metadata": {},
     "output_type": "execute_result"
    }
   ],
   "source": [
    "net[a,b,:]"
   ]
  },
  {
   "cell_type": "code",
   "execution_count": 26,
   "metadata": {},
   "outputs": [],
   "source": [
    "a,b = [1,2]"
   ]
  },
  {
   "cell_type": "code",
   "execution_count": 29,
   "metadata": {},
   "outputs": [],
   "source": [
    "x,y = [(1,2),(3,4)]"
   ]
  },
  {
   "cell_type": "code",
   "execution_count": 30,
   "metadata": {},
   "outputs": [
    {
     "data": {
      "text/plain": [
       "(1, 2)"
      ]
     },
     "execution_count": 30,
     "metadata": {},
     "output_type": "execute_result"
    }
   ],
   "source": [
    "x"
   ]
  },
  {
   "cell_type": "code",
   "execution_count": 31,
   "metadata": {},
   "outputs": [
    {
     "data": {
      "text/plain": [
       "(3, 4)"
      ]
     },
     "execution_count": 31,
     "metadata": {},
     "output_type": "execute_result"
    }
   ],
   "source": [
    "y"
   ]
  },
  {
   "cell_type": "code",
   "execution_count": null,
   "metadata": {},
   "outputs": [],
   "source": []
  }
 ],
 "metadata": {
  "kernelspec": {
   "display_name": "Python 3",
   "language": "python",
   "name": "python3"
  },
  "language_info": {
   "codemirror_mode": {
    "name": "ipython",
    "version": 3
   },
   "file_extension": ".py",
   "mimetype": "text/x-python",
   "name": "python",
   "nbconvert_exporter": "python",
   "pygments_lexer": "ipython3",
   "version": "3.8.3"
  }
 },
 "nbformat": 4,
 "nbformat_minor": 4
}
